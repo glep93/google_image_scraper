{
 "cells": [
  {
   "cell_type": "code",
   "execution_count": 19,
   "metadata": {},
   "outputs": [],
   "source": [
    "from bs4 import BeautifulSoup\n",
    "from selenium import webdriver\n",
    "import urllib\n",
    "from urllib.request import urlopen \n",
    "import requests\n",
    "import base64\n",
    "import os\n",
    "import time\n",
    "import glob"
   ]
  },
  {
   "cell_type": "code",
   "execution_count": 48,
   "metadata": {},
   "outputs": [],
   "source": [
    "search_string = 'triceratops'\n",
    "search_string = search_string.replace(' ','+')\n",
    "\n",
    "try:\n",
    "    os.makedirs(f'image_dataset/{search_string}' )\n",
    "\n",
    "except:\n",
    "    for i in glob.glob(f'image_dataset/{search_string}/*'):\n",
    "        os.remove(i)"
   ]
  },
  {
   "cell_type": "code",
   "execution_count": 49,
   "metadata": {},
   "outputs": [],
   "source": [
    "search_url = f'https://www.google.com/search?q={search_string}&source=lnms&tbm=isch'\n",
    "driver = webdriver.Chrome()\n",
    "driver.get(search_url)"
   ]
  },
  {
   "cell_type": "code",
   "execution_count": 50,
   "metadata": {},
   "outputs": [],
   "source": [
    "old = 0\n",
    "new = 1\n",
    "while old != new:\n",
    "    old = driver.execute_script(\"window.scrollTo(0, document.body.scrollHeight);return document.body.scrollHeight\")\n",
    "    time.sleep(2)\n",
    "    new = driver.execute_script(\"return document.body.scrollHeight\")\n",
    "    try:\n",
    "        driver.find_element_by_xpath('//input[@value=\"Mostra altri risultati\"]').click()\n",
    "    except:\n",
    "        continue\n",
    "\n",
    "for i, element in enumerate( driver.find_elements_by_tag_name('img')):\n",
    "    #print(element.get_property('src') )\n",
    "    if 'https' in element.get_property('src'):\n",
    "        \n",
    "        imgdata = urlopen(element.get_property('src') ).read()\n",
    "        with open(f'image_dataset/{search_string}/{i}.png', 'wb') as f:\n",
    "            f.write(imgdata)        \n",
    "        \n",
    "    elif 'data:image/jpeg' in element.get_property('src'):\n",
    "        imgstring = element.get_property('src')\n",
    "        imgstring = imgstring [imgstring .find('/9'):]\n",
    "        imgdata = base64.b64decode(imgstring)\n",
    "        with open( f'image_dataset/{search_string}/{i}.png', 'wb') as f:\n",
    "            f.write(imgdata)"
   ]
  },
  {
   "cell_type": "code",
   "execution_count": null,
   "metadata": {},
   "outputs": [],
   "source": []
  },
  {
   "cell_type": "code",
   "execution_count": null,
   "metadata": {},
   "outputs": [],
   "source": []
  },
  {
   "cell_type": "code",
   "execution_count": null,
   "metadata": {},
   "outputs": [],
   "source": []
  }
 ],
 "metadata": {
  "kernelspec": {
   "display_name": "Python 3",
   "language": "python",
   "name": "python3"
  },
  "language_info": {
   "codemirror_mode": {
    "name": "ipython",
    "version": 3
   },
   "file_extension": ".py",
   "mimetype": "text/x-python",
   "name": "python",
   "nbconvert_exporter": "python",
   "pygments_lexer": "ipython3",
   "version": "3.8.5"
  }
 },
 "nbformat": 4,
 "nbformat_minor": 4
}
